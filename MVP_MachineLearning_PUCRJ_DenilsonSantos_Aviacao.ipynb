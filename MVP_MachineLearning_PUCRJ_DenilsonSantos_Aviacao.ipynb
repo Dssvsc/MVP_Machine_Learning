{
  "nbformat": 4,
  "nbformat_minor": 0,
  "metadata": {
    "colab": {
      "provenance": []
    },
    "kernelspec": {
      "name": "python3",
      "display_name": "Python 3"
    },
    "language_info": {
      "name": "python"
    }
  },
  "cells": [
    {
      "cell_type": "markdown",
      "source": [
        "# Trabalho de Machine Learning\n",
        "\n",
        "**Dados do Aluno**\n",
        "\n",
        "\n",
        "* **Nome**: Denilson Santos\n",
        "* **Disciplina**: Machine Learning\n",
        "* **Pós-Graduação**: Ciência de dados e Analytics\n",
        "----\n"
      ],
      "metadata": {
        "id": "B5bCBW01Wof4"
      }
    },
    {
      "cell_type": "markdown",
      "source": [
        "# Dados Utilizados\n",
        "\n",
        "O dataset utilizado foi os dados da ANAC -\n",
        "Possui os seguintes campos:\n",
        "\n",
        "* **Empresa Aérea**: Empresa Aérea responsável por operar as etapas;\n",
        "* **Aeroporto de Origem**: Origem do voo\n",
        "* **Aeroporto de Destino**: Destino do Voo\n",
        "* **UF**\n",
        "* **Mes e Ano**: Refere-se à data prevista para início da primeira etapa de cada voo.\n",
        "* **Grupo**: Faz referência ao tipo de operação das etapas:\n",
        "  1. **Improdutivas** (Non-revenue flights): etapas que não geraram receita à empresa aérea (como realização de treinamentos, voo para manutenção de aeronaves);\n",
        "  2. **Regulares** (Scheduled revenue flights): etapas remuneradas que são realizadas sob uma numeração de Horário de Transporte (HOTRAN). Recebem esse nome, pois possuem a característica de serem realizadas regularmente;\n",
        "  3. **Não Regulares** (Non-scheduled revenue flights): etapas remuneradas que não são realizadas sob uma numeração de Horário de Transporte (HOTRAN). Recebem esse nome, pois possuem a característica de serem realizadas de forma não continuada. Aqui estão os voos Charters, Fretamentos.\n",
        "* **Assentos**: é o número de assentos disponíveis em cada etapa de voo de acordo com a configuração da aeronave na execução da etapa;\n",
        "* **Passageiros Pagos**: Refere-se aos passageiros que ocupam assentos oferecidos e que geram receita, com a compra de assentos, para a empresa de transporte aéreo.\n",
        "\n",
        "# Origem dos dados\n",
        "\n",
        "**Link**:\n",
        "\n",
        "https://www.gov.br/anac/pt-br/assuntos/dados-e-estatisticas/historico-de-voos\n",
        "\n",
        "**Descrição**:\n",
        "\n",
        "https://www.anac.gov.br/acesso-a-informacao/dados-abertos/areas-de-atuacao/voos-e-operacoes-aereas/dados-estatisticos-do-transporte-aereo/48-dados-estatisticos-do-transporte-aereo"
      ],
      "metadata": {
        "id": "3wP4ygSiWpnu"
      }
    },
    {
      "cell_type": "markdown",
      "source": [
        "# 1. Definição do Problema\n",
        "* O problema é identificar qual companhia aérea corre o risco de falir.\n",
        "* A hipótese é que as companhias aéreas com menos passageiros pagos e mais assentos disponíveis estão em risco.\n",
        "* O dataset contém informações sobre várias companhias aéreas, incluindo o número de passageiros pagos e assentos disponíveis.\n",
        "\n",
        "\n",
        "Para resolver esse problema, iremos utilizar um **modelo de regressão**, para encontrar qual companhia aérea corre o risco de falir."
      ],
      "metadata": {
        "id": "7-zLrEvGXieS"
      }
    },
    {
      "cell_type": "markdown",
      "source": [
        "#2. Preparação de Dados\n",
        "\n",
        "Importando as Bibliotecas Python"
      ],
      "metadata": {
        "id": "uNjwDsHLWvwv"
      }
    },
    {
      "cell_type": "code",
      "execution_count": 54,
      "metadata": {
        "id": "sAqyLLsuWivY"
      },
      "outputs": [],
      "source": [
        "import pandas as pd\n",
        "from sklearn.model_selection import train_test_split\n",
        "from sklearn.preprocessing import StandardScaler, LabelEncoder\n",
        "from sklearn.linear_model import LinearRegression\n",
        "from sklearn.metrics import mean_squared_error\n",
        "from sklearn.model_selection import cross_val_score\n",
        "from sklearn.pipeline import Pipeline\n",
        "from sklearn.impute import SimpleImputer\n",
        "\n",
        "\n",
        "from tabulate import tabulate\n",
        "from csv import DictReader\n",
        "\n",
        "from google.colab import data_table\n",
        "data_table.enable_dataframe_formatter()"
      ]
    },
    {
      "cell_type": "markdown",
      "source": [
        "Configurando o Google Colab para exibir o resultado formatado"
      ],
      "metadata": {
        "id": "wS0Aa2THW_0k"
      }
    },
    {
      "cell_type": "code",
      "source": [
        "!mkdir -p ~/.ipython/profile_default\n",
        "!echo \"c = get_config()\" > ~/.ipython/profile_default/ipython_config.py"
      ],
      "metadata": {
        "id": "NH6VgbPwXCy-"
      },
      "execution_count": 55,
      "outputs": []
    },
    {
      "cell_type": "markdown",
      "source": [
        "Importação dos Dados"
      ],
      "metadata": {
        "id": "NtnRf40TXDR9"
      }
    },
    {
      "cell_type": "code",
      "source": [
        "url = \"https://raw.githubusercontent.com/Dssvsc/MVP_Machine_Learning/main/dados_anac.csv\"\n",
        "data = pd.read_csv(url, sep=';', on_bad_lines='warn')\n",
        "\n",
        "data"
      ],
      "metadata": {
        "colab": {
          "base_uri": "https://localhost:8080/",
          "height": 442
        },
        "id": "Ac0ID37jXJ6L",
        "outputId": "658860ab-6ac6-4a06-d186-d648c2b3973b"
      },
      "execution_count": 56,
      "outputs": [
        {
          "output_type": "stream",
          "name": "stdout",
          "text": [
            "Warning: total number of rows (145593) exceeds max_rows (20000). Falling back to pandas display.\n"
          ]
        },
        {
          "output_type": "execute_result",
          "data": {
            "text/plain": [
              "                                     empresa       mes   ano aeroporto_origem  \\\n",
              "0       AZU - Azul Linhas Aéreas Brasileiras   Janeiro  2016   SBAE - Arealva   \n",
              "1       AZU - Azul Linhas Aéreas Brasileiras   Janeiro  2016   SBAE - Arealva   \n",
              "2       AZU - Azul Linhas Aéreas Brasileiras   Janeiro  2016   SBAE - Arealva   \n",
              "3       AZU - Azul Linhas Aéreas Brasileiras   Janeiro  2016   SBAE - Arealva   \n",
              "4       AZU - Azul Linhas Aéreas Brasileiras   Janeiro  2016   SBAR - Aracaju   \n",
              "...                                      ...       ...   ...              ...   \n",
              "145588             TAM - LATAM Linhas Aéreas  Dezembro  2022   SBVT - Vitória   \n",
              "145589             TAM - LATAM Linhas Aéreas  Dezembro  2022   SBVT - Vitória   \n",
              "145590             TAM - LATAM Linhas Aéreas  Dezembro  2022   SBVT - Vitória   \n",
              "145591             TAM - LATAM Linhas Aéreas  Dezembro  2022   SBVT - Vitória   \n",
              "145592             TAM - LATAM Linhas Aéreas  Dezembro  2022    SBZM - Goianá   \n",
              "\n",
              "       uf_origem      aeroporto_destino uf_destino        grupo  \\\n",
              "0             SP   SBAE - Várzea Grande         MT  Não Regular   \n",
              "1             SP        SBAE - Campinas         SP      Regular   \n",
              "2             SP         SBAE - Marília         SP      Regular   \n",
              "3             SP  SBAE - Ribeirão Preto         SP      Regular   \n",
              "4             SE         SBAR - Confins         MG  Não Regular   \n",
              "...          ...                    ...        ...          ...   \n",
              "145588        ES  SBVT - Rio De Janeiro         RJ      Regular   \n",
              "145589        ES       SBVT - São Paulo         SP  Improdutivo   \n",
              "145590        ES       SBVT - São Paulo         SP  Não Regular   \n",
              "145591        ES       SBVT - São Paulo         SP      Regular   \n",
              "145592        MG       SBZM - Guarulhos         SP      Regular   \n",
              "\n",
              "        passageiros_pagos  assentos  \n",
              "0                    56.0      70.0  \n",
              "1                  1938.0    2722.0  \n",
              "2                     1.0    1602.0  \n",
              "3                    57.0      70.0  \n",
              "4                  1597.0    1998.0  \n",
              "...                   ...       ...  \n",
              "145588             9670.0   17330.0  \n",
              "145589                0.0       0.0  \n",
              "145590              909.0    1548.0  \n",
              "145591            16602.0   30218.0  \n",
              "145592             2497.0    4966.0  \n",
              "\n",
              "[145593 rows x 10 columns]"
            ],
            "text/html": [
              "\n",
              "  <div id=\"df-e0d970a4-f3b0-4ed2-bc2f-4668ead999d5\" class=\"colab-df-container\">\n",
              "    <div>\n",
              "<style scoped>\n",
              "    .dataframe tbody tr th:only-of-type {\n",
              "        vertical-align: middle;\n",
              "    }\n",
              "\n",
              "    .dataframe tbody tr th {\n",
              "        vertical-align: top;\n",
              "    }\n",
              "\n",
              "    .dataframe thead th {\n",
              "        text-align: right;\n",
              "    }\n",
              "</style>\n",
              "<table border=\"1\" class=\"dataframe\">\n",
              "  <thead>\n",
              "    <tr style=\"text-align: right;\">\n",
              "      <th></th>\n",
              "      <th>empresa</th>\n",
              "      <th>mes</th>\n",
              "      <th>ano</th>\n",
              "      <th>aeroporto_origem</th>\n",
              "      <th>uf_origem</th>\n",
              "      <th>aeroporto_destino</th>\n",
              "      <th>uf_destino</th>\n",
              "      <th>grupo</th>\n",
              "      <th>passageiros_pagos</th>\n",
              "      <th>assentos</th>\n",
              "    </tr>\n",
              "  </thead>\n",
              "  <tbody>\n",
              "    <tr>\n",
              "      <th>0</th>\n",
              "      <td>AZU - Azul Linhas Aéreas Brasileiras</td>\n",
              "      <td>Janeiro</td>\n",
              "      <td>2016</td>\n",
              "      <td>SBAE - Arealva</td>\n",
              "      <td>SP</td>\n",
              "      <td>SBAE - Várzea Grande</td>\n",
              "      <td>MT</td>\n",
              "      <td>Não Regular</td>\n",
              "      <td>56.0</td>\n",
              "      <td>70.0</td>\n",
              "    </tr>\n",
              "    <tr>\n",
              "      <th>1</th>\n",
              "      <td>AZU - Azul Linhas Aéreas Brasileiras</td>\n",
              "      <td>Janeiro</td>\n",
              "      <td>2016</td>\n",
              "      <td>SBAE - Arealva</td>\n",
              "      <td>SP</td>\n",
              "      <td>SBAE - Campinas</td>\n",
              "      <td>SP</td>\n",
              "      <td>Regular</td>\n",
              "      <td>1938.0</td>\n",
              "      <td>2722.0</td>\n",
              "    </tr>\n",
              "    <tr>\n",
              "      <th>2</th>\n",
              "      <td>AZU - Azul Linhas Aéreas Brasileiras</td>\n",
              "      <td>Janeiro</td>\n",
              "      <td>2016</td>\n",
              "      <td>SBAE - Arealva</td>\n",
              "      <td>SP</td>\n",
              "      <td>SBAE - Marília</td>\n",
              "      <td>SP</td>\n",
              "      <td>Regular</td>\n",
              "      <td>1.0</td>\n",
              "      <td>1602.0</td>\n",
              "    </tr>\n",
              "    <tr>\n",
              "      <th>3</th>\n",
              "      <td>AZU - Azul Linhas Aéreas Brasileiras</td>\n",
              "      <td>Janeiro</td>\n",
              "      <td>2016</td>\n",
              "      <td>SBAE - Arealva</td>\n",
              "      <td>SP</td>\n",
              "      <td>SBAE - Ribeirão Preto</td>\n",
              "      <td>SP</td>\n",
              "      <td>Regular</td>\n",
              "      <td>57.0</td>\n",
              "      <td>70.0</td>\n",
              "    </tr>\n",
              "    <tr>\n",
              "      <th>4</th>\n",
              "      <td>AZU - Azul Linhas Aéreas Brasileiras</td>\n",
              "      <td>Janeiro</td>\n",
              "      <td>2016</td>\n",
              "      <td>SBAR - Aracaju</td>\n",
              "      <td>SE</td>\n",
              "      <td>SBAR - Confins</td>\n",
              "      <td>MG</td>\n",
              "      <td>Não Regular</td>\n",
              "      <td>1597.0</td>\n",
              "      <td>1998.0</td>\n",
              "    </tr>\n",
              "    <tr>\n",
              "      <th>...</th>\n",
              "      <td>...</td>\n",
              "      <td>...</td>\n",
              "      <td>...</td>\n",
              "      <td>...</td>\n",
              "      <td>...</td>\n",
              "      <td>...</td>\n",
              "      <td>...</td>\n",
              "      <td>...</td>\n",
              "      <td>...</td>\n",
              "      <td>...</td>\n",
              "    </tr>\n",
              "    <tr>\n",
              "      <th>145588</th>\n",
              "      <td>TAM - LATAM Linhas Aéreas</td>\n",
              "      <td>Dezembro</td>\n",
              "      <td>2022</td>\n",
              "      <td>SBVT - Vitória</td>\n",
              "      <td>ES</td>\n",
              "      <td>SBVT - Rio De Janeiro</td>\n",
              "      <td>RJ</td>\n",
              "      <td>Regular</td>\n",
              "      <td>9670.0</td>\n",
              "      <td>17330.0</td>\n",
              "    </tr>\n",
              "    <tr>\n",
              "      <th>145589</th>\n",
              "      <td>TAM - LATAM Linhas Aéreas</td>\n",
              "      <td>Dezembro</td>\n",
              "      <td>2022</td>\n",
              "      <td>SBVT - Vitória</td>\n",
              "      <td>ES</td>\n",
              "      <td>SBVT - São Paulo</td>\n",
              "      <td>SP</td>\n",
              "      <td>Improdutivo</td>\n",
              "      <td>0.0</td>\n",
              "      <td>0.0</td>\n",
              "    </tr>\n",
              "    <tr>\n",
              "      <th>145590</th>\n",
              "      <td>TAM - LATAM Linhas Aéreas</td>\n",
              "      <td>Dezembro</td>\n",
              "      <td>2022</td>\n",
              "      <td>SBVT - Vitória</td>\n",
              "      <td>ES</td>\n",
              "      <td>SBVT - São Paulo</td>\n",
              "      <td>SP</td>\n",
              "      <td>Não Regular</td>\n",
              "      <td>909.0</td>\n",
              "      <td>1548.0</td>\n",
              "    </tr>\n",
              "    <tr>\n",
              "      <th>145591</th>\n",
              "      <td>TAM - LATAM Linhas Aéreas</td>\n",
              "      <td>Dezembro</td>\n",
              "      <td>2022</td>\n",
              "      <td>SBVT - Vitória</td>\n",
              "      <td>ES</td>\n",
              "      <td>SBVT - São Paulo</td>\n",
              "      <td>SP</td>\n",
              "      <td>Regular</td>\n",
              "      <td>16602.0</td>\n",
              "      <td>30218.0</td>\n",
              "    </tr>\n",
              "    <tr>\n",
              "      <th>145592</th>\n",
              "      <td>TAM - LATAM Linhas Aéreas</td>\n",
              "      <td>Dezembro</td>\n",
              "      <td>2022</td>\n",
              "      <td>SBZM - Goianá</td>\n",
              "      <td>MG</td>\n",
              "      <td>SBZM - Guarulhos</td>\n",
              "      <td>SP</td>\n",
              "      <td>Regular</td>\n",
              "      <td>2497.0</td>\n",
              "      <td>4966.0</td>\n",
              "    </tr>\n",
              "  </tbody>\n",
              "</table>\n",
              "<p>145593 rows × 10 columns</p>\n",
              "</div>\n",
              "    <div class=\"colab-df-buttons\">\n",
              "\n",
              "  <div class=\"colab-df-container\">\n",
              "    <button class=\"colab-df-convert\" onclick=\"convertToInteractive('df-e0d970a4-f3b0-4ed2-bc2f-4668ead999d5')\"\n",
              "            title=\"Convert this dataframe to an interactive table.\"\n",
              "            style=\"display:none;\">\n",
              "\n",
              "  <svg xmlns=\"http://www.w3.org/2000/svg\" height=\"24px\" viewBox=\"0 -960 960 960\">\n",
              "    <path d=\"M120-120v-720h720v720H120Zm60-500h600v-160H180v160Zm220 220h160v-160H400v160Zm0 220h160v-160H400v160ZM180-400h160v-160H180v160Zm440 0h160v-160H620v160ZM180-180h160v-160H180v160Zm440 0h160v-160H620v160Z\"/>\n",
              "  </svg>\n",
              "    </button>\n",
              "\n",
              "  <style>\n",
              "    .colab-df-container {\n",
              "      display:flex;\n",
              "      gap: 12px;\n",
              "    }\n",
              "\n",
              "    .colab-df-convert {\n",
              "      background-color: #E8F0FE;\n",
              "      border: none;\n",
              "      border-radius: 50%;\n",
              "      cursor: pointer;\n",
              "      display: none;\n",
              "      fill: #1967D2;\n",
              "      height: 32px;\n",
              "      padding: 0 0 0 0;\n",
              "      width: 32px;\n",
              "    }\n",
              "\n",
              "    .colab-df-convert:hover {\n",
              "      background-color: #E2EBFA;\n",
              "      box-shadow: 0px 1px 2px rgba(60, 64, 67, 0.3), 0px 1px 3px 1px rgba(60, 64, 67, 0.15);\n",
              "      fill: #174EA6;\n",
              "    }\n",
              "\n",
              "    .colab-df-buttons div {\n",
              "      margin-bottom: 4px;\n",
              "    }\n",
              "\n",
              "    [theme=dark] .colab-df-convert {\n",
              "      background-color: #3B4455;\n",
              "      fill: #D2E3FC;\n",
              "    }\n",
              "\n",
              "    [theme=dark] .colab-df-convert:hover {\n",
              "      background-color: #434B5C;\n",
              "      box-shadow: 0px 1px 3px 1px rgba(0, 0, 0, 0.15);\n",
              "      filter: drop-shadow(0px 1px 2px rgba(0, 0, 0, 0.3));\n",
              "      fill: #FFFFFF;\n",
              "    }\n",
              "  </style>\n",
              "\n",
              "    <script>\n",
              "      const buttonEl =\n",
              "        document.querySelector('#df-e0d970a4-f3b0-4ed2-bc2f-4668ead999d5 button.colab-df-convert');\n",
              "      buttonEl.style.display =\n",
              "        google.colab.kernel.accessAllowed ? 'block' : 'none';\n",
              "\n",
              "      async function convertToInteractive(key) {\n",
              "        const element = document.querySelector('#df-e0d970a4-f3b0-4ed2-bc2f-4668ead999d5');\n",
              "        const dataTable =\n",
              "          await google.colab.kernel.invokeFunction('convertToInteractive',\n",
              "                                                    [key], {});\n",
              "        if (!dataTable) return;\n",
              "\n",
              "        const docLinkHtml = 'Like what you see? Visit the ' +\n",
              "          '<a target=\"_blank\" href=https://colab.research.google.com/notebooks/data_table.ipynb>data table notebook</a>'\n",
              "          + ' to learn more about interactive tables.';\n",
              "        element.innerHTML = '';\n",
              "        dataTable['output_type'] = 'display_data';\n",
              "        await google.colab.output.renderOutput(dataTable, element);\n",
              "        const docLink = document.createElement('div');\n",
              "        docLink.innerHTML = docLinkHtml;\n",
              "        element.appendChild(docLink);\n",
              "      }\n",
              "    </script>\n",
              "  </div>\n",
              "\n",
              "\n",
              "<div id=\"df-ba71af10-e4f2-41aa-be59-7494b5d0e804\">\n",
              "  <button class=\"colab-df-quickchart\" onclick=\"quickchart('df-ba71af10-e4f2-41aa-be59-7494b5d0e804')\"\n",
              "            title=\"Suggest charts\"\n",
              "            style=\"display:none;\">\n",
              "\n",
              "<svg xmlns=\"http://www.w3.org/2000/svg\" height=\"24px\"viewBox=\"0 0 24 24\"\n",
              "     width=\"24px\">\n",
              "    <g>\n",
              "        <path d=\"M19 3H5c-1.1 0-2 .9-2 2v14c0 1.1.9 2 2 2h14c1.1 0 2-.9 2-2V5c0-1.1-.9-2-2-2zM9 17H7v-7h2v7zm4 0h-2V7h2v10zm4 0h-2v-4h2v4z\"/>\n",
              "    </g>\n",
              "</svg>\n",
              "  </button>\n",
              "\n",
              "<style>\n",
              "  .colab-df-quickchart {\n",
              "      --bg-color: #E8F0FE;\n",
              "      --fill-color: #1967D2;\n",
              "      --hover-bg-color: #E2EBFA;\n",
              "      --hover-fill-color: #174EA6;\n",
              "      --disabled-fill-color: #AAA;\n",
              "      --disabled-bg-color: #DDD;\n",
              "  }\n",
              "\n",
              "  [theme=dark] .colab-df-quickchart {\n",
              "      --bg-color: #3B4455;\n",
              "      --fill-color: #D2E3FC;\n",
              "      --hover-bg-color: #434B5C;\n",
              "      --hover-fill-color: #FFFFFF;\n",
              "      --disabled-bg-color: #3B4455;\n",
              "      --disabled-fill-color: #666;\n",
              "  }\n",
              "\n",
              "  .colab-df-quickchart {\n",
              "    background-color: var(--bg-color);\n",
              "    border: none;\n",
              "    border-radius: 50%;\n",
              "    cursor: pointer;\n",
              "    display: none;\n",
              "    fill: var(--fill-color);\n",
              "    height: 32px;\n",
              "    padding: 0;\n",
              "    width: 32px;\n",
              "  }\n",
              "\n",
              "  .colab-df-quickchart:hover {\n",
              "    background-color: var(--hover-bg-color);\n",
              "    box-shadow: 0 1px 2px rgba(60, 64, 67, 0.3), 0 1px 3px 1px rgba(60, 64, 67, 0.15);\n",
              "    fill: var(--button-hover-fill-color);\n",
              "  }\n",
              "\n",
              "  .colab-df-quickchart-complete:disabled,\n",
              "  .colab-df-quickchart-complete:disabled:hover {\n",
              "    background-color: var(--disabled-bg-color);\n",
              "    fill: var(--disabled-fill-color);\n",
              "    box-shadow: none;\n",
              "  }\n",
              "\n",
              "  .colab-df-spinner {\n",
              "    border: 2px solid var(--fill-color);\n",
              "    border-color: transparent;\n",
              "    border-bottom-color: var(--fill-color);\n",
              "    animation:\n",
              "      spin 1s steps(1) infinite;\n",
              "  }\n",
              "\n",
              "  @keyframes spin {\n",
              "    0% {\n",
              "      border-color: transparent;\n",
              "      border-bottom-color: var(--fill-color);\n",
              "      border-left-color: var(--fill-color);\n",
              "    }\n",
              "    20% {\n",
              "      border-color: transparent;\n",
              "      border-left-color: var(--fill-color);\n",
              "      border-top-color: var(--fill-color);\n",
              "    }\n",
              "    30% {\n",
              "      border-color: transparent;\n",
              "      border-left-color: var(--fill-color);\n",
              "      border-top-color: var(--fill-color);\n",
              "      border-right-color: var(--fill-color);\n",
              "    }\n",
              "    40% {\n",
              "      border-color: transparent;\n",
              "      border-right-color: var(--fill-color);\n",
              "      border-top-color: var(--fill-color);\n",
              "    }\n",
              "    60% {\n",
              "      border-color: transparent;\n",
              "      border-right-color: var(--fill-color);\n",
              "    }\n",
              "    80% {\n",
              "      border-color: transparent;\n",
              "      border-right-color: var(--fill-color);\n",
              "      border-bottom-color: var(--fill-color);\n",
              "    }\n",
              "    90% {\n",
              "      border-color: transparent;\n",
              "      border-bottom-color: var(--fill-color);\n",
              "    }\n",
              "  }\n",
              "</style>\n",
              "\n",
              "  <script>\n",
              "    async function quickchart(key) {\n",
              "      const quickchartButtonEl =\n",
              "        document.querySelector('#' + key + ' button');\n",
              "      quickchartButtonEl.disabled = true;  // To prevent multiple clicks.\n",
              "      quickchartButtonEl.classList.add('colab-df-spinner');\n",
              "      try {\n",
              "        const charts = await google.colab.kernel.invokeFunction(\n",
              "            'suggestCharts', [key], {});\n",
              "      } catch (error) {\n",
              "        console.error('Error during call to suggestCharts:', error);\n",
              "      }\n",
              "      quickchartButtonEl.classList.remove('colab-df-spinner');\n",
              "      quickchartButtonEl.classList.add('colab-df-quickchart-complete');\n",
              "    }\n",
              "    (() => {\n",
              "      let quickchartButtonEl =\n",
              "        document.querySelector('#df-ba71af10-e4f2-41aa-be59-7494b5d0e804 button');\n",
              "      quickchartButtonEl.style.display =\n",
              "        google.colab.kernel.accessAllowed ? 'block' : 'none';\n",
              "    })();\n",
              "  </script>\n",
              "</div>\n",
              "    </div>\n",
              "  </div>\n"
            ],
            "application/vnd.google.colaboratory.intrinsic+json": {
              "type": "dataframe",
              "variable_name": "data"
            }
          },
          "metadata": {},
          "execution_count": 56
        }
      ]
    },
    {
      "cell_type": "markdown",
      "source": [
        "Tratamento dos dados"
      ],
      "metadata": {
        "id": "J61PaeU9XT0j"
      }
    },
    {
      "cell_type": "code",
      "source": [
        "cols = [\"passageiros_pagos\",\"assentos\"]\n",
        "data[cols] = data[cols].replace(\"None\", \"0\")"
      ],
      "metadata": {
        "id": "hW7z5ZucXWJB"
      },
      "execution_count": 57,
      "outputs": []
    },
    {
      "cell_type": "code",
      "source": [
        "data['passageiros_pagos'] = data['passageiros_pagos'].astype(float)\n",
        "data['assentos'] = data['assentos'].astype(float)"
      ],
      "metadata": {
        "id": "U2Ty0vY6XY3s"
      },
      "execution_count": 58,
      "outputs": []
    },
    {
      "cell_type": "code",
      "source": [
        "## Filtrando as colunas necessárias\n",
        "data = data[['empresa', 'passageiros_pagos', 'assentos']]"
      ],
      "metadata": {
        "id": "P1yazBvbea1x"
      },
      "execution_count": 59,
      "outputs": []
    },
    {
      "cell_type": "code",
      "source": [
        "imputer = SimpleImputer(strategy='mean')\n",
        "for col in data.columns:\n",
        "    if data[col].dtype == 'object':\n",
        "        data[col] = data[col].fillna(data[col].mode()[0])\n",
        "    else:\n",
        "        data[col] = data[col].fillna(data[col].mean())"
      ],
      "metadata": {
        "colab": {
          "base_uri": "https://localhost:8080/"
        },
        "id": "hFkhVSbohDQt",
        "outputId": "1ee90210-d2b2-4781-d28d-a5f019768bfe"
      },
      "execution_count": 60,
      "outputs": [
        {
          "output_type": "stream",
          "name": "stderr",
          "text": [
            "<ipython-input-60-8b38ac1c23ea>:4: SettingWithCopyWarning: \n",
            "A value is trying to be set on a copy of a slice from a DataFrame.\n",
            "Try using .loc[row_indexer,col_indexer] = value instead\n",
            "\n",
            "See the caveats in the documentation: https://pandas.pydata.org/pandas-docs/stable/user_guide/indexing.html#returning-a-view-versus-a-copy\n",
            "  data[col] = data[col].fillna(data[col].mode()[0])\n",
            "<ipython-input-60-8b38ac1c23ea>:6: SettingWithCopyWarning: \n",
            "A value is trying to be set on a copy of a slice from a DataFrame.\n",
            "Try using .loc[row_indexer,col_indexer] = value instead\n",
            "\n",
            "See the caveats in the documentation: https://pandas.pydata.org/pandas-docs/stable/user_guide/indexing.html#returning-a-view-versus-a-copy\n",
            "  data[col] = data[col].fillna(data[col].mean())\n"
          ]
        }
      ]
    },
    {
      "cell_type": "markdown",
      "source": [
        "Separação do dataset entre treino e teste"
      ],
      "metadata": {
        "id": "YTABmFZMYC_1"
      }
    },
    {
      "cell_type": "code",
      "source": [
        "# Codificando a coluna 'empresa'\n",
        "le = LabelEncoder()\n",
        "data['empresa'] = le.fit_transform(data['empresa'])"
      ],
      "metadata": {
        "colab": {
          "base_uri": "https://localhost:8080/"
        },
        "id": "8A2H6XiRkxVd",
        "outputId": "ee48b2df-5edc-4423-ea01-d49dc4a0cbbc"
      },
      "execution_count": 61,
      "outputs": [
        {
          "output_type": "stream",
          "name": "stderr",
          "text": [
            "<ipython-input-61-efdb7f48bca1>:3: SettingWithCopyWarning: \n",
            "A value is trying to be set on a copy of a slice from a DataFrame.\n",
            "Try using .loc[row_indexer,col_indexer] = value instead\n",
            "\n",
            "See the caveats in the documentation: https://pandas.pydata.org/pandas-docs/stable/user_guide/indexing.html#returning-a-view-versus-a-copy\n",
            "  data['empresa'] = le.fit_transform(data['empresa'])\n"
          ]
        }
      ]
    },
    {
      "cell_type": "code",
      "source": [
        "# Codificando variáveis categóricas\n",
        "label_encoders = {col: LabelEncoder() for col in data.columns if data[col].dtype == 'object'}\n",
        "for col, le in label_encoders.items():\n",
        "    data[col] = le.fit_transform(data[col])"
      ],
      "metadata": {
        "id": "BqOcu78Ei4I7"
      },
      "execution_count": 62,
      "outputs": []
    },
    {
      "cell_type": "code",
      "source": [
        "X = data.drop('empresa', axis=1)\n",
        "y = data['empresa']\n",
        "X_train, X_test, y_train, y_test = train_test_split(X, y, test_size=0.2, random_state=42)"
      ],
      "metadata": {
        "id": "I8Gs09s9YCtV"
      },
      "execution_count": 63,
      "outputs": []
    },
    {
      "cell_type": "markdown",
      "source": [
        "Normalizando os dados"
      ],
      "metadata": {
        "id": "rHx6tb2kYL2f"
      }
    },
    {
      "cell_type": "code",
      "source": [
        "from sklearn.preprocessing import LabelEncoder\n",
        "\n",
        "# Cria um LabelEncoder para cada coluna categórica\n",
        "label_encoders = {col: LabelEncoder() for col in X_train.columns if X_train[col].dtype == 'object'}\n"
      ],
      "metadata": {
        "id": "vzhKvKVWYMQh"
      },
      "execution_count": 64,
      "outputs": []
    },
    {
      "cell_type": "code",
      "source": [
        "# Aplica o LabelEncoder em cada coluna categórica\n",
        "for col, le in label_encoders.items():\n",
        "    X_train[col] = le.fit_transform(X_train[col])\n",
        "    X_test[col] = le.transform(X_test[col])"
      ],
      "metadata": {
        "id": "6m64u2nJdQoJ"
      },
      "execution_count": 65,
      "outputs": []
    },
    {
      "cell_type": "code",
      "source": [
        "# Agora você pode aplicar o StandardScaler\n",
        "scaler = StandardScaler()\n",
        "X_train = scaler.fit_transform(X_train)\n",
        "X_test = scaler.transform(X_test)"
      ],
      "metadata": {
        "id": "lmqXzHEVdSdE"
      },
      "execution_count": 66,
      "outputs": []
    },
    {
      "cell_type": "markdown",
      "source": [
        "# 3. Modelagem e treinamento\n",
        "Criando o modelo de regressão linear"
      ],
      "metadata": {
        "id": "auknSrPTYRfJ"
      }
    },
    {
      "cell_type": "code",
      "source": [
        "model = LinearRegression()"
      ],
      "metadata": {
        "id": "cxKA9oDEYSNy"
      },
      "execution_count": 67,
      "outputs": []
    },
    {
      "cell_type": "markdown",
      "source": [
        "Treinamento do modelo de dados"
      ],
      "metadata": {
        "id": "9WsfUEYIYfjJ"
      }
    },
    {
      "cell_type": "code",
      "source": [
        "from sklearn.preprocessing import LabelEncoder\n",
        "\n",
        "# Cria um LabelEncoder para cada coluna categórica\n",
        "label_encoders = {col: LabelEncoder() for col in data.columns if data[col].dtype == 'object'}\n",
        "\n",
        "# Aplica o LabelEncoder em cada coluna categórica\n",
        "for col, le in label_encoders.items():\n",
        "    data[col] = le.fit_transform(data[col])\n",
        "\n",
        "# Agora você pode aplicar o SimpleImputer\n",
        "imputer = SimpleImputer(strategy='mean')\n",
        "data_imputed = imputer.fit_transform(data)\n"
      ],
      "metadata": {
        "id": "Hr2wAk0UiG2w"
      },
      "execution_count": 68,
      "outputs": []
    },
    {
      "cell_type": "code",
      "source": [
        "model.fit(X_train, y_train)"
      ],
      "metadata": {
        "colab": {
          "base_uri": "https://localhost:8080/",
          "height": 75
        },
        "id": "K6gGUocUYdDi",
        "outputId": "ef59647b-574b-443f-8202-d61603ee9d82"
      },
      "execution_count": 69,
      "outputs": [
        {
          "output_type": "execute_result",
          "data": {
            "text/plain": [
              "LinearRegression()"
            ],
            "text/html": [
              "<style>#sk-container-id-3 {color: black;background-color: white;}#sk-container-id-3 pre{padding: 0;}#sk-container-id-3 div.sk-toggleable {background-color: white;}#sk-container-id-3 label.sk-toggleable__label {cursor: pointer;display: block;width: 100%;margin-bottom: 0;padding: 0.3em;box-sizing: border-box;text-align: center;}#sk-container-id-3 label.sk-toggleable__label-arrow:before {content: \"▸\";float: left;margin-right: 0.25em;color: #696969;}#sk-container-id-3 label.sk-toggleable__label-arrow:hover:before {color: black;}#sk-container-id-3 div.sk-estimator:hover label.sk-toggleable__label-arrow:before {color: black;}#sk-container-id-3 div.sk-toggleable__content {max-height: 0;max-width: 0;overflow: hidden;text-align: left;background-color: #f0f8ff;}#sk-container-id-3 div.sk-toggleable__content pre {margin: 0.2em;color: black;border-radius: 0.25em;background-color: #f0f8ff;}#sk-container-id-3 input.sk-toggleable__control:checked~div.sk-toggleable__content {max-height: 200px;max-width: 100%;overflow: auto;}#sk-container-id-3 input.sk-toggleable__control:checked~label.sk-toggleable__label-arrow:before {content: \"▾\";}#sk-container-id-3 div.sk-estimator input.sk-toggleable__control:checked~label.sk-toggleable__label {background-color: #d4ebff;}#sk-container-id-3 div.sk-label input.sk-toggleable__control:checked~label.sk-toggleable__label {background-color: #d4ebff;}#sk-container-id-3 input.sk-hidden--visually {border: 0;clip: rect(1px 1px 1px 1px);clip: rect(1px, 1px, 1px, 1px);height: 1px;margin: -1px;overflow: hidden;padding: 0;position: absolute;width: 1px;}#sk-container-id-3 div.sk-estimator {font-family: monospace;background-color: #f0f8ff;border: 1px dotted black;border-radius: 0.25em;box-sizing: border-box;margin-bottom: 0.5em;}#sk-container-id-3 div.sk-estimator:hover {background-color: #d4ebff;}#sk-container-id-3 div.sk-parallel-item::after {content: \"\";width: 100%;border-bottom: 1px solid gray;flex-grow: 1;}#sk-container-id-3 div.sk-label:hover label.sk-toggleable__label {background-color: #d4ebff;}#sk-container-id-3 div.sk-serial::before {content: \"\";position: absolute;border-left: 1px solid gray;box-sizing: border-box;top: 0;bottom: 0;left: 50%;z-index: 0;}#sk-container-id-3 div.sk-serial {display: flex;flex-direction: column;align-items: center;background-color: white;padding-right: 0.2em;padding-left: 0.2em;position: relative;}#sk-container-id-3 div.sk-item {position: relative;z-index: 1;}#sk-container-id-3 div.sk-parallel {display: flex;align-items: stretch;justify-content: center;background-color: white;position: relative;}#sk-container-id-3 div.sk-item::before, #sk-container-id-3 div.sk-parallel-item::before {content: \"\";position: absolute;border-left: 1px solid gray;box-sizing: border-box;top: 0;bottom: 0;left: 50%;z-index: -1;}#sk-container-id-3 div.sk-parallel-item {display: flex;flex-direction: column;z-index: 1;position: relative;background-color: white;}#sk-container-id-3 div.sk-parallel-item:first-child::after {align-self: flex-end;width: 50%;}#sk-container-id-3 div.sk-parallel-item:last-child::after {align-self: flex-start;width: 50%;}#sk-container-id-3 div.sk-parallel-item:only-child::after {width: 0;}#sk-container-id-3 div.sk-dashed-wrapped {border: 1px dashed gray;margin: 0 0.4em 0.5em 0.4em;box-sizing: border-box;padding-bottom: 0.4em;background-color: white;}#sk-container-id-3 div.sk-label label {font-family: monospace;font-weight: bold;display: inline-block;line-height: 1.2em;}#sk-container-id-3 div.sk-label-container {text-align: center;}#sk-container-id-3 div.sk-container {/* jupyter's `normalize.less` sets `[hidden] { display: none; }` but bootstrap.min.css set `[hidden] { display: none !important; }` so we also need the `!important` here to be able to override the default hidden behavior on the sphinx rendered scikit-learn.org. See: https://github.com/scikit-learn/scikit-learn/issues/21755 */display: inline-block !important;position: relative;}#sk-container-id-3 div.sk-text-repr-fallback {display: none;}</style><div id=\"sk-container-id-3\" class=\"sk-top-container\"><div class=\"sk-text-repr-fallback\"><pre>LinearRegression()</pre><b>In a Jupyter environment, please rerun this cell to show the HTML representation or trust the notebook. <br />On GitHub, the HTML representation is unable to render, please try loading this page with nbviewer.org.</b></div><div class=\"sk-container\" hidden><div class=\"sk-item\"><div class=\"sk-estimator sk-toggleable\"><input class=\"sk-toggleable__control sk-hidden--visually\" id=\"sk-estimator-id-3\" type=\"checkbox\" checked><label for=\"sk-estimator-id-3\" class=\"sk-toggleable__label sk-toggleable__label-arrow\">LinearRegression</label><div class=\"sk-toggleable__content\"><pre>LinearRegression()</pre></div></div></div></div></div>"
            ]
          },
          "metadata": {},
          "execution_count": 69
        }
      ]
    },
    {
      "cell_type": "markdown",
      "source": [
        "# 4. Avaliação de Resultados\n",
        "Avaliando o modelo com os dados de teste\n"
      ],
      "metadata": {
        "id": "5w2OaDL0YmcD"
      }
    },
    {
      "cell_type": "code",
      "source": [
        "y_pred = model.predict(X_test)\n",
        "mse = mean_squared_error(y_test, y_pred)\n",
        "print(f'MSE: {mse}')"
      ],
      "metadata": {
        "colab": {
          "base_uri": "https://localhost:8080/"
        },
        "id": "QkvW1OMyYpjC",
        "outputId": "97e43e80-2a32-4014-ce1c-8fa517d9d27e"
      },
      "execution_count": 70,
      "outputs": [
        {
          "output_type": "stream",
          "name": "stdout",
          "text": [
            "MSE: 2.3561602044460552\n"
          ]
        }
      ]
    },
    {
      "cell_type": "markdown",
      "source": [
        "Utilizando cross-validation"
      ],
      "metadata": {
        "id": "Nl4gMSUxYq5t"
      }
    },
    {
      "cell_type": "code",
      "source": [
        "scores = cross_val_score(model, X, y, cv=5)\n",
        "print(f'Cross-validation scores: {scores}')"
      ],
      "metadata": {
        "colab": {
          "base_uri": "https://localhost:8080/"
        },
        "id": "PQ1a6bmUYt-U",
        "outputId": "3c973901-794b-4e03-a17e-4430b506e1e5"
      },
      "execution_count": 71,
      "outputs": [
        {
          "output_type": "stream",
          "name": "stdout",
          "text": [
            "Cross-validation scores: [ 0.          0.         -4.12012362 -0.69445622  0.        ]\n"
          ]
        }
      ]
    },
    {
      "cell_type": "markdown",
      "source": [
        "Criação do pipeline"
      ],
      "metadata": {
        "id": "_DembCiXY2Tp"
      }
    },
    {
      "cell_type": "code",
      "source": [
        "pipeline = Pipeline(steps=[('s',scaler),('m',model)])\n",
        "pipeline.fit(X_train, y_train)\n",
        "y_pred_pipeline = pipeline.predict(X_test)\n",
        "mse_pipeline = mean_squared_error(y_test, y_pred_pipeline)"
      ],
      "metadata": {
        "id": "MDkCu-FAY2_b"
      },
      "execution_count": 72,
      "outputs": []
    },
    {
      "cell_type": "markdown",
      "source": [
        "Resultados"
      ],
      "metadata": {
        "id": "4vzQbSlsZAAP"
      }
    },
    {
      "cell_type": "code",
      "source": [
        "print(f'MSE (com pipeline): {mse_pipeline}')"
      ],
      "metadata": {
        "colab": {
          "base_uri": "https://localhost:8080/"
        },
        "id": "uoCv6GsYZBdt",
        "outputId": "d6078d0f-dfcf-44c8-9021-5f0a43740cb6"
      },
      "execution_count": 73,
      "outputs": [
        {
          "output_type": "stream",
          "name": "stdout",
          "text": [
            "MSE (com pipeline): 2.3561602044460552\n"
          ]
        }
      ]
    },
    {
      "cell_type": "markdown",
      "source": [
        "# 5. Resultado Final\n",
        "Identificando a empresa com maior risco de falir"
      ],
      "metadata": {
        "id": "OFRfasw9ZjYj"
      }
    },
    {
      "cell_type": "code",
      "source": [
        "risk_index = y_pred.argmin()\n",
        "risk_company = y[risk_index]\n",
        "print(f'A empresa com maior risco de falir é: {risk_company}')"
      ],
      "metadata": {
        "colab": {
          "base_uri": "https://localhost:8080/"
        },
        "id": "6N1LTHgTZdLr",
        "outputId": "9a938161-561f-49db-aa3e-6d8f25fd88b7"
      },
      "execution_count": 74,
      "outputs": [
        {
          "output_type": "stream",
          "name": "stdout",
          "text": [
            "A empresa com maior risco de falir é: 0\n"
          ]
        }
      ]
    },
    {
      "cell_type": "code",
      "source": [
        "# Identificando a empresa com maior risco de falir\n",
        "risk_index = y_pred.argmin()\n",
        "risk_company_encoded = y[risk_index]"
      ],
      "metadata": {
        "id": "r4kOh1ZYkRCA"
      },
      "execution_count": 75,
      "outputs": []
    },
    {
      "cell_type": "code",
      "source": [
        "# Use o LabelEncoder para obter o nome da empresa\n",
        "risk_company = le.inverse_transform([risk_company_encoded])\n",
        "\n",
        "print(f'A empresa com maior risco de falir é: {risk_company[0]}')"
      ],
      "metadata": {
        "colab": {
          "base_uri": "https://localhost:8080/"
        },
        "id": "QOVpWaJwkXSQ",
        "outputId": "edcf9bb5-32a3-448a-d191-0edfc2e9b16e"
      },
      "execution_count": 76,
      "outputs": [
        {
          "output_type": "stream",
          "name": "stdout",
          "text": [
            "A empresa com maior risco de falir é: AZU - Azul Linhas Aéreas Brasileiras\n"
          ]
        }
      ]
    },
    {
      "cell_type": "markdown",
      "source": [
        "# 6. Conclusão\n",
        "\n",
        "O resultado final é que a `Azul Linhas Aéreas Brasileiras` corre o risco de falir segundo o treinamento do modelo de dados.\n",
        "\n",
        "O meu maior desafio foi aprender a linguagem python e utilizar os recursos do Google Colab, além do GitHub.\n",
        "\n",
        "Tive que fazer diversas pesquisas para entender e aprender a dominar todos esses recursos que eu não domino, principalmente em fazer um código limpo e descritivo."
      ],
      "metadata": {
        "id": "pdwrr1RmlaNV"
      }
    }
  ]
}